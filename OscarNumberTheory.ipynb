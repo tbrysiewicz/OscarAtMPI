{
 "cells": [
  {
   "cell_type": "code",
   "execution_count": 1,
   "metadata": {},
   "outputs": [
    {
     "data": {
      "text/html": [
       "$\\require{action}$"
      ]
     },
     "metadata": {},
     "output_type": "display_data"
    },
    {
     "name": "stdout",
     "output_type": "stream",
     "text": [
      " -----    -----    -----      -      -----   \n",
      "|     |  |     |  |     |    | |    |     |  \n",
      "|     |  |        |         |   |   |     |  \n",
      "|     |   -----   |        |     |  |-----   \n",
      "|     |        |  |        |-----|  |   |    \n",
      "|     |  |     |  |     |  |     |  |    |   \n",
      " -----    -----    -----   -     -  -     -  \n",
      "\n",
      "...combining (and extending) ANTIC, GAP, Polymake and Singular\n",
      "Version\u001b[32m 0.5.0 \u001b[39m... \n",
      " ... which comes with absolutely no warranty whatsoever\n",
      "Type: '?Oscar' for more information\n",
      "(c) 2019-2020 by The Oscar Development Team\n"
     ]
    }
   ],
   "source": [
    "using Oscar"
   ]
  },
  {
   "cell_type": "markdown",
   "metadata": {},
   "source": [
    "# Number Theory in OSCAR #\n",
    "\n",
    "Number theory in OSCAR works with a mix of systems that also build on each other: Hecke, Nemo, Flint, AbstractAlgebra, Antic. They are all put together under the name Antic. \n",
    "As a user, you can think about Hecke as being the main system, and find documentation in Hecke.jl: http://www.thofma.com/Hecke.jl/latest/. There is also a nice example of the basics in Hecke.jl written by Claus Fieker: https://nbviewer.jupyter.org/github/oscar-system/OSCARBinder/blob/master/Hecke.ipynb. \n",
    "For this exposition I used these two resources.\n",
    "\n",
    "\n",
    "# Creating number fields #\n",
    "\n",
    "Let's start with creating a basic number field. This is done by adding the roots of an **irreducible** polynomial."
   ]
  },
  {
   "cell_type": "code",
   "execution_count": 2,
   "metadata": {},
   "outputs": [
    {
     "data": {
      "text/html": [
       "($R$, $x$)"
      ],
      "text/plain": [
       "(Univariate Polynomial Ring in x over Rational Field, x)"
      ]
     },
     "execution_count": 2,
     "metadata": {},
     "output_type": "execute_result"
    }
   ],
   "source": [
    "R, x = PolynomialRing(QQ, \"x\")"
   ]
  },
  {
   "cell_type": "code",
   "execution_count": 3,
   "metadata": {},
   "outputs": [
    {
     "data": {
      "text/html": [
       "($K$, $a$)"
      ],
      "text/plain": [
       "(Number field over Rational Field with defining polynomial x^2 - 2, a)"
      ]
     },
     "execution_count": 3,
     "metadata": {},
     "output_type": "execute_result"
    }
   ],
   "source": [
    "K, a = NumberField(x^2 - 2, \"a\")"
   ]
  },
  {
   "cell_type": "markdown",
   "metadata": {},
   "source": [
    "$a$ is the class of $x$ in $\\mathbb{Q}[x]/(x^2-2)$:"
   ]
  },
  {
   "cell_type": "code",
   "execution_count": 4,
   "metadata": {},
   "outputs": [
    {
     "data": {
      "text/html": [
       "$2$"
      ],
      "text/latex": [
       "2"
      ],
      "text/plain": [
       "2"
      ]
     },
     "execution_count": 4,
     "metadata": {},
     "output_type": "execute_result"
    }
   ],
   "source": [
    "a^2"
   ]
  },
  {
   "cell_type": "markdown",
   "metadata": {},
   "source": [
    "We can also create a number field without naming the class of $x$, but we have to be aware that this is a vector with two elements: the field and the class of $x$."
   ]
  },
  {
   "cell_type": "code",
   "execution_count": 5,
   "metadata": {},
   "outputs": [
    {
     "data": {
      "text/html": [
       "($\\text{Number field over Rational field with defining polynomial }x^{8} - 21x^{6} + 84x^{4} - 105x^{2} + 25$, $\\alpha$)"
      ],
      "text/plain": [
       "(Number field over Rational Field with defining polynomial x^8 - 21*x^6 + 84*x^4 - 105*x^2 + 25, _a)"
      ]
     },
     "execution_count": 5,
     "metadata": {},
     "output_type": "execute_result"
    }
   ],
   "source": [
    "N = NumberField(x^8 - 21*x^6 + 84*x^4 - 105*x^2 + 25)"
   ]
  },
  {
   "cell_type": "code",
   "execution_count": 6,
   "metadata": {},
   "outputs": [
    {
     "data": {
      "text/html": [
       "$21\\alpha^{6} - 84\\alpha^{4} + 105\\alpha^{2} - 25$"
      ],
      "text/latex": [
       "( 2 1 * _ a ^ 6   -   8 4 * _ a ^ 4   +   1 0 5 * _ a ^ 2   -   2 5 )"
      ],
      "text/plain": [
       "21*_a^6 - 84*_a^4 + 105*_a^2 - 25"
      ]
     },
     "execution_count": 6,
     "metadata": {},
     "output_type": "execute_result"
    }
   ],
   "source": [
    "N[2]^8"
   ]
  },
  {
   "cell_type": "markdown",
   "metadata": {},
   "source": [
    "There are some standard number fields implemented, and we can check whether two number fields are isomorphic."
   ]
  },
  {
   "cell_type": "code",
   "execution_count": 7,
   "metadata": {},
   "outputs": [],
   "source": [
    "C = cyclotomic_field(3);"
   ]
  },
  {
   "cell_type": "code",
   "execution_count": 8,
   "metadata": {},
   "outputs": [
    {
     "data": {
      "text/html": [
       "($\\text{Number field over Rational field with defining polynomial }x^{2} + x + 1$, $\\alpha$)"
      ],
      "text/plain": [
       "(Number field over Rational Field with defining polynomial x^2 + x + 1, _a)"
      ]
     },
     "execution_count": 8,
     "metadata": {},
     "output_type": "execute_result"
    }
   ],
   "source": [
    "C2 = NumberField(x^2+x+1)"
   ]
  },
  {
   "cell_type": "code",
   "execution_count": 9,
   "metadata": {},
   "outputs": [
    {
     "data": {
      "text/html": [
       "(true, $\\text{Map from }\\text{Number field over Rational field with defining polynomial }_$^{2} + _$ + 1\\to \\text{Number field over Rational field with defining polynomial }x^{2} + x + 1$)"
      ],
      "text/plain": [
       "(true, Injection of Cyclotomic field of order 3 into Number field over Rational Field with defining polynomial x^2 + x + 1\n",
       "defined by z_3 -> -_a-1\n",
       ")"
      ]
     },
     "execution_count": 9,
     "metadata": {},
     "output_type": "execute_result"
    }
   ],
   "source": [
    "isisomorphic(C[1],C2[1])"
   ]
  },
  {
   "cell_type": "markdown",
   "metadata": {},
   "source": [
    "The output does not give the mathmode correctly. This seems to happen with the command cyclotomic_field. Mathematically there are no errors, though!\n",
    "\n",
    "\n",
    "\n",
    "We can create non-simple number fields, by adding roots from multiple polynomials....... "
   ]
  },
  {
   "cell_type": "code",
   "execution_count": 10,
   "metadata": {},
   "outputs": [
    {
     "data": {
      "text/html": [
       "($L$, [NfAbsNSElem[_$1, _$2, _$3])"
      ],
      "text/plain": [
       "(Non-simple number field with defining polynomials fmpq_mpoly[x1^2 - 2, x2^2 - 3, x3^2 - 5], NfAbsNSElem[_$1, _$2, _$3])"
      ]
     },
     "execution_count": 10,
     "metadata": {},
     "output_type": "execute_result"
    }
   ],
   "source": [
    "L, b = number_field([x^2-2, x^2-3, x^2-5])"
   ]
  },
  {
   "cell_type": "code",
   "execution_count": 11,
   "metadata": {},
   "outputs": [
    {
     "name": "stdout",
     "output_type": "stream",
     "text": [
      "2\n",
      "3\n",
      "5\n"
     ]
    }
   ],
   "source": [
    "for i = 1:3\n",
    "    println(b[i]^2)\n",
    "end"
   ]
  },
  {
   "cell_type": "markdown",
   "metadata": {},
   "source": [
    "... and convert it to a simple field!"
   ]
  },
  {
   "cell_type": "code",
   "execution_count": 12,
   "metadata": {},
   "outputs": [
    {
     "data": {
      "text/html": [
       "($\\text{Number field over Rational field with defining polynomial }x^{8} - 40x^{6} + 352x^{4} - 960x^{2} + 576$, $\\text{Map from }\\text{Number field over Rational field with defining polynomial }x^{8} - 40x^{6} + 352x^{4} - 960x^{2} + 576\\to L$)"
      ],
      "text/plain": [
       "(Number field over Rational Field with defining polynomial x^8 - 40*x^6 + 352*x^4 - 960*x^2 + 576, Map with following data\n",
       "Domain:\n",
       "=======\n",
       "Number field over Rational Field with defining polynomial x^8 - 40*x^6 + 352*x^4 - 960*x^2 + 576\n",
       "Codomain:\n",
       "=========\n",
       "L\n",
       ")"
      ]
     },
     "execution_count": 12,
     "metadata": {},
     "output_type": "execute_result"
    }
   ],
   "source": [
    "S = simple_extension(L)"
   ]
  },
  {
   "cell_type": "markdown",
   "metadata": {},
   "source": [
    "It is generated by a polynomial of degree 8. Could it be isomorphic to N?"
   ]
  },
  {
   "cell_type": "code",
   "execution_count": 13,
   "metadata": {},
   "outputs": [
    {
     "data": {
      "text/html": [
       "(false, $\\text{Map from }\\text{Number field over Rational field with defining polynomial }x^{8} - 40x^{6} + 352x^{4} - 960x^{2} + 576\\to \\text{Number field over Rational field with defining polynomial }x^{8} - 21x^{6} + 84x^{4} - 105x^{2} + 25$)"
      ],
      "text/plain": [
       "(false, Injection of Number field over Rational Field with defining polynomial x^8 - 40*x^6 + 352*x^4 - 960*x^2 + 576 into Number field over Rational Field with defining polynomial x^8 - 21*x^6 + 84*x^4 - 105*x^2 + 25\n",
       "defined by _a -> 0\n",
       ")"
      ]
     },
     "execution_count": 13,
     "metadata": {},
     "output_type": "execute_result"
    }
   ],
   "source": [
    "isisomorphic(S[1],N[1])"
   ]
  },
  {
   "cell_type": "markdown",
   "metadata": {},
   "source": [
    "Representing a field as a simple extension is often needed for computations. For example, to compare it to other simple number fields. "
   ]
  },
  {
   "cell_type": "code",
   "execution_count": 14,
   "metadata": {},
   "outputs": [
    {
     "ename": "LoadError",
     "evalue": "MethodError: no method matching issubfield(::AnticNumberField, ::NfAbsNS)\nClosest candidates are:\n  issubfield(::AnticNumberField, !Matched::AnticNumberField) at /home/taylor/.julia/packages/Hecke/SROq0/src/NumField/NfAbs/NfAbs.jl:466",
     "output_type": "error",
     "traceback": [
      "MethodError: no method matching issubfield(::AnticNumberField, ::NfAbsNS)\nClosest candidates are:\n  issubfield(::AnticNumberField, !Matched::AnticNumberField) at /home/taylor/.julia/packages/Hecke/SROq0/src/NumField/NfAbs/NfAbs.jl:466",
      "",
      "Stacktrace:",
      " [1] top-level scope at In[14]:1",
      " [2] include_string(::Function, ::Module, ::String, ::String) at ./loading.jl:1091"
     ]
    }
   ],
   "source": [
    "issubfield(K,L)"
   ]
  },
  {
   "cell_type": "markdown",
   "metadata": {},
   "source": [
    "The above gives an error since we can not compare $K$ and $L$. But we can compare $K$ and $S$!"
   ]
  },
  {
   "cell_type": "code",
   "execution_count": 15,
   "metadata": {},
   "outputs": [
    {
     "data": {
      "text/html": [
       "(true, $\\text{Map from }K\\to \\text{Number field over Rational field with defining polynomial }x^{8} - 40x^{6} + 352x^{4} - 960x^{2} + 576$)"
      ],
      "text/plain": [
       "(true, Injection of Number field over Rational Field with defining polynomial x^2 - 2 into Number field over Rational Field with defining polynomial x^8 - 40*x^6 + 352*x^4 - 960*x^2 + 576\n",
       "defined by a -> -1//576*_a^7 + 7//144*_a^5 + 7//72*_a^3 - 5//3*_a\n",
       ")"
      ]
     },
     "execution_count": 15,
     "metadata": {},
     "output_type": "execute_result"
    }
   ],
   "source": [
    "issubfield(K,S[1])"
   ]
  },
  {
   "cell_type": "markdown",
   "metadata": {},
   "source": [
    "# Invariants and elements #"
   ]
  },
  {
   "cell_type": "markdown",
   "metadata": {},
   "source": [
    "Let's recall the fields that we have defined so far. "
   ]
  },
  {
   "cell_type": "code",
   "execution_count": 16,
   "metadata": {},
   "outputs": [
    {
     "name": "stdout",
     "output_type": "stream",
     "text": [
      "Number field over Rational Field with defining polynomial x^2 - 2\n",
      "\n",
      "Number field over Rational Field with defining polynomial x^8 - 21*x^6 + 84*x^4 - 105*x^2 + 25\n",
      "\n",
      "(Cyclotomic field of order 3, z_3)\n",
      "\n",
      "Non-simple number field with defining polynomials fmpq_mpoly[x1^2 - 2, x2^2 - 3, x3^2 - 5]\n",
      "\n",
      "Number field over Rational Field with defining polynomial x^8 - 40*x^6 + 352*x^4 - 960*x^2 + 576\n"
     ]
    }
   ],
   "source": [
    "println(K)\n",
    "println()\n",
    "println(N[1])\n",
    "println()\n",
    "println(C)\n",
    "println()\n",
    "println(L)\n",
    "println()\n",
    "println(S[1])"
   ]
  },
  {
   "cell_type": "markdown",
   "metadata": {},
   "source": [
    "We compute the degree of each field, and find a generator. If the field is not a simple extension (in our case, the field $L$), we have to ask for *gens* instead of *gen*."
   ]
  },
  {
   "cell_type": "code",
   "execution_count": 17,
   "metadata": {},
   "outputs": [
    {
     "name": "stdout",
     "output_type": "stream",
     "text": [
      "2\n",
      "8\n",
      "2\n",
      "8\n",
      "8\n"
     ]
    }
   ],
   "source": [
    "for field in [K,N[1],C[1],L,S[1]]\n",
    "    println(degree(field))\n",
    "end"
   ]
  },
  {
   "cell_type": "code",
   "execution_count": 18,
   "metadata": {},
   "outputs": [
    {
     "data": {
      "text/html": [
       "$a$"
      ],
      "text/latex": [
       "a"
      ],
      "text/plain": [
       "a"
      ]
     },
     "execution_count": 18,
     "metadata": {},
     "output_type": "execute_result"
    }
   ],
   "source": [
    "gen(K)"
   ]
  },
  {
   "cell_type": "code",
   "execution_count": 19,
   "metadata": {},
   "outputs": [
    {
     "data": {
      "text/html": [
       "$21\\alpha^{6} - 84\\alpha^{4} + 105\\alpha^{2} - 25$"
      ],
      "text/latex": [
       "( 2 1 * _ a ^ 6   -   8 4 * _ a ^ 4   +   1 0 5 * _ a ^ 2   -   2 5 )"
      ],
      "text/plain": [
       "21*_a^6 - 84*_a^4 + 105*_a^2 - 25"
      ]
     },
     "execution_count": 19,
     "metadata": {},
     "output_type": "execute_result"
    }
   ],
   "source": [
    "gen(N[1])^8"
   ]
  },
  {
   "cell_type": "code",
   "execution_count": 20,
   "metadata": {},
   "outputs": [
    {
     "data": {
      "text/html": [
       "$\\zeta_{3}$"
      ],
      "text/latex": [
       "z _ 3"
      ],
      "text/plain": [
       "z_3"
      ]
     },
     "execution_count": 20,
     "metadata": {},
     "output_type": "execute_result"
    }
   ],
   "source": [
    "gen(C[1])"
   ]
  },
  {
   "cell_type": "code",
   "execution_count": 21,
   "metadata": {},
   "outputs": [
    {
     "data": {
      "text/plain": [
       "3-element Array{NfAbsNSElem,1}:\n",
       " _$1\n",
       " _$2\n",
       " _$3"
      ]
     },
     "execution_count": 21,
     "metadata": {},
     "output_type": "execute_result"
    }
   ],
   "source": [
    "gens(L)"
   ]
  },
  {
   "cell_type": "code",
   "execution_count": 22,
   "metadata": {},
   "outputs": [
    {
     "data": {
      "text/html": [
       "$x^{2} - 2$"
      ],
      "text/latex": [
       "x^{2} - 2"
      ],
      "text/plain": [
       "x^2 - 2"
      ]
     },
     "execution_count": 22,
     "metadata": {},
     "output_type": "execute_result"
    }
   ],
   "source": [
    "minpoly(a)"
   ]
  },
  {
   "cell_type": "code",
   "execution_count": 23,
   "metadata": {},
   "outputs": [
    {
     "name": "stdout",
     "output_type": "stream",
     "text": [
      "true\n",
      "x^2 - 2\n",
      "x^2 - 3\n",
      "x^2 - 5\n",
      "x^8 - 40*x^6 + 352*x^4 - 960*x^2 + 576\n"
     ]
    }
   ],
   "source": [
    "println(gens(L) == b)\n",
    "println(minpoly(b[1]))\n",
    "println(minpoly(b[2]))\n",
    "println(minpoly(b[3]))\n",
    "println(minpoly(b[1]+b[2]+b[3]))"
   ]
  },
  {
   "cell_type": "markdown",
   "metadata": {},
   "source": [
    "It is also easy to compute a basis."
   ]
  },
  {
   "cell_type": "code",
   "execution_count": 24,
   "metadata": {},
   "outputs": [
    {
     "data": {
      "text/html": [
       "[$1$, $a$]"
      ],
      "text/plain": [
       "2-element Array{nf_elem,1}:\n",
       " 1\n",
       " a"
      ]
     },
     "execution_count": 24,
     "metadata": {},
     "output_type": "execute_result"
    }
   ],
   "source": [
    "basis(K)"
   ]
  },
  {
   "cell_type": "code",
   "execution_count": 25,
   "metadata": {},
   "outputs": [
    {
     "data": {
      "text/html": [
       "[$1$, $\\alpha$, $\\alpha^{2}$, $\\alpha^{3}$, $\\alpha^{4}$, $\\alpha^{5}$, $\\alpha^{6}$, $\\alpha^{7}$]"
      ],
      "text/plain": [
       "8-element Array{nf_elem,1}:\n",
       " 1\n",
       " _a\n",
       " _a^2\n",
       " _a^3\n",
       " _a^4\n",
       " _a^5\n",
       " _a^6\n",
       " _a^7"
      ]
     },
     "execution_count": 25,
     "metadata": {},
     "output_type": "execute_result"
    }
   ],
   "source": [
    "basis(N[1])"
   ]
  },
  {
   "cell_type": "code",
   "execution_count": 26,
   "metadata": {},
   "outputs": [
    {
     "data": {
      "text/plain": [
       "8-element Array{NfAbsNSElem,1}:\n",
       " 1\n",
       " 2\n",
       " 3\n",
       " 6\n",
       " 5\n",
       " 10\n",
       " 15\n",
       " 30"
      ]
     },
     "execution_count": 26,
     "metadata": {},
     "output_type": "execute_result"
    }
   ],
   "source": [
    "[x^2 for x = basis(L)]"
   ]
  },
  {
   "cell_type": "markdown",
   "metadata": {},
   "source": [
    "# Automorphisms and Galois groups #"
   ]
  },
  {
   "cell_type": "markdown",
   "metadata": {},
   "source": [
    "With ? we can ask what to do with a command. "
   ]
  },
  {
   "cell_type": "code",
   "execution_count": 27,
   "metadata": {},
   "outputs": [
    {
     "name": "stdout",
     "output_type": "stream",
     "text": [
      "search: \u001b[0m\u001b[1ma\u001b[22m\u001b[0m\u001b[1mu\u001b[22m\u001b[0m\u001b[1mt\u001b[22m\u001b[0m\u001b[1mo\u001b[22m\u001b[0m\u001b[1mm\u001b[22m\u001b[0m\u001b[1mo\u001b[22m\u001b[0m\u001b[1mr\u001b[22m\u001b[0m\u001b[1mp\u001b[22m\u001b[0m\u001b[1mh\u001b[22m\u001b[0m\u001b[1mi\u001b[22m\u001b[0m\u001b[1ms\u001b[22m\u001b[0m\u001b[1mm\u001b[22m\u001b[0m\u001b[1ms\u001b[22m inner_\u001b[0m\u001b[1ma\u001b[22m\u001b[0m\u001b[1mu\u001b[22m\u001b[0m\u001b[1mt\u001b[22m\u001b[0m\u001b[1mo\u001b[22m\u001b[0m\u001b[1mm\u001b[22m\u001b[0m\u001b[1mo\u001b[22m\u001b[0m\u001b[1mr\u001b[22m\u001b[0m\u001b[1mp\u001b[22m\u001b[0m\u001b[1mh\u001b[22m\u001b[0m\u001b[1mi\u001b[22m\u001b[0m\u001b[1ms\u001b[22m\u001b[0m\u001b[1mm\u001b[22m\u001b[0m\u001b[1ms\u001b[22m_group \u001b[0m\u001b[1ma\u001b[22m\u001b[0m\u001b[1mu\u001b[22m\u001b[0m\u001b[1mt\u001b[22m\u001b[0m\u001b[1mo\u001b[22m\u001b[0m\u001b[1mm\u001b[22m\u001b[0m\u001b[1mo\u001b[22m\u001b[0m\u001b[1mr\u001b[22m\u001b[0m\u001b[1mp\u001b[22m\u001b[0m\u001b[1mh\u001b[22m\u001b[0m\u001b[1mi\u001b[22m\u001b[0m\u001b[1ms\u001b[22m\u001b[0m\u001b[1mm\u001b[22m_group_generator\u001b[0m\u001b[1ms\u001b[22m\n",
      "\n"
     ]
    },
    {
     "data": {
      "text/latex": [
       "\\begin{verbatim}\n",
       "automorphisms(G::GrpGen) -> A::Array{GrpGenToGrpGenMor,1}\n",
       "\\end{verbatim}\n",
       "Returns all group isomorphisms from $G$ to $G$.\n",
       "\n",
       "\\rule{\\textwidth}{1pt}\n",
       "\\begin{verbatim}\n",
       "automorphisms(K::AnticNumberField) -> Vector{NfToNfMor}\n",
       "\\end{verbatim}\n",
       "Returns the set of automorphisms of K\n",
       "\n",
       "\\rule{\\textwidth}{1pt}\n",
       "\\begin{verbatim}\n",
       "automorphisms(C::CyclotomicExt; gens::Vector{NfToNfMor}) -> Vector{NfToNfMor}\n",
       "\\end{verbatim}\n",
       "Computes the automorphisms of the absolute field defined by the cyclotomic extension, i.e. of absolute\\_field(C). It assumes that the base field is normal. gens must be a set of generators for the automorphism group of the base field of C\n",
       "\n"
      ],
      "text/markdown": [
       "```\n",
       "automorphisms(G::GrpGen) -> A::Array{GrpGenToGrpGenMor,1}\n",
       "```\n",
       "\n",
       "Returns all group isomorphisms from $G$ to $G$.\n",
       "\n",
       "---\n",
       "\n",
       "```\n",
       "automorphisms(K::AnticNumberField) -> Vector{NfToNfMor}\n",
       "```\n",
       "\n",
       "Returns the set of automorphisms of K\n",
       "\n",
       "---\n",
       "\n",
       "```\n",
       "automorphisms(C::CyclotomicExt; gens::Vector{NfToNfMor}) -> Vector{NfToNfMor}\n",
       "```\n",
       "\n",
       "Computes the automorphisms of the absolute field defined by the cyclotomic extension, i.e. of absolute_field(C). It assumes that the base field is normal. gens must be a set of generators for the automorphism group of the base field of C\n"
      ],
      "text/plain": [
       "\u001b[36m  automorphisms(G::GrpGen) -> A::Array{GrpGenToGrpGenMor,1}\u001b[39m\n",
       "\n",
       "  Returns all group isomorphisms from \u001b[35mG\u001b[39m to \u001b[35mG\u001b[39m.\n",
       "\n",
       "  ────────────────────────────────────────────────────────────────────────────\n",
       "\n",
       "\u001b[36m  automorphisms(K::AnticNumberField) -> Vector{NfToNfMor}\u001b[39m\n",
       "\n",
       "  Returns the set of automorphisms of K\n",
       "\n",
       "  ────────────────────────────────────────────────────────────────────────────\n",
       "\n",
       "\u001b[36m  automorphisms(C::CyclotomicExt; gens::Vector{NfToNfMor}) -> Vector{NfToNfMor}\u001b[39m\n",
       "\n",
       "  Computes the automorphisms of the absolute field defined by the cyclotomic\n",
       "  extension, i.e. of absolute_field(C). It assumes that the base field is\n",
       "  normal. gens must be a set of generators for the automorphism group of the\n",
       "  base field of C"
      ]
     },
     "execution_count": 27,
     "metadata": {},
     "output_type": "execute_result"
    }
   ],
   "source": [
    "?automorphisms"
   ]
  },
  {
   "cell_type": "code",
   "execution_count": 28,
   "metadata": {},
   "outputs": [
    {
     "data": {
      "text/html": [
       "[$\\text{Map from }K\\to K$, $\\text{Map from }K\\to K$]"
      ],
      "text/plain": [
       "2-element Array{NfToNfMor,1}:\n",
       " Automorphism of Number field over Rational Field with defining polynomial x^2 - 2\n",
       "defined by a -> a\n",
       "\n",
       " Automorphism of Number field over Rational Field with defining polynomial x^2 - 2\n",
       "defined by a -> -a\n"
      ]
     },
     "execution_count": 28,
     "metadata": {},
     "output_type": "execute_result"
    }
   ],
   "source": [
    "automorphisms(K)"
   ]
  },
  {
   "cell_type": "markdown",
   "metadata": {},
   "source": [
    "This gives the number of automorphisms, but for the rest it is not very insightfull yet.... We get more information by asking how the automorphisms act on an element in the number field."
   ]
  },
  {
   "cell_type": "code",
   "execution_count": 29,
   "metadata": {},
   "outputs": [
    {
     "data": {
      "text/html": [
       "$a$"
      ],
      "text/latex": [
       "a"
      ],
      "text/plain": [
       "a"
      ]
     },
     "execution_count": 29,
     "metadata": {},
     "output_type": "execute_result"
    }
   ],
   "source": [
    "automorphisms(K)[1](a)"
   ]
  },
  {
   "cell_type": "code",
   "execution_count": 30,
   "metadata": {},
   "outputs": [
    {
     "data": {
      "text/html": [
       "$-a$"
      ],
      "text/latex": [
       "- a"
      ],
      "text/plain": [
       "-a"
      ]
     },
     "execution_count": 30,
     "metadata": {},
     "output_type": "execute_result"
    }
   ],
   "source": [
    "automorphisms(K)[2](a)"
   ]
  },
  {
   "cell_type": "markdown",
   "metadata": {},
   "source": [
    "Also here, we can not work with a non-simple extension. "
   ]
  },
  {
   "cell_type": "code",
   "execution_count": 44,
   "metadata": {},
   "outputs": [
    {
     "ename": "LoadError",
     "evalue": "MethodError: no method matching automorphisms(::NfAbsNS)\nClosest candidates are:\n  automorphisms(!Matched::CyclotomicExt; gens, copy) at /home/taylor/.julia/packages/Hecke/SROq0/src/RCF/cyclo.jl:397\n  automorphisms(!Matched::AnticNumberField; copy) at /home/taylor/.julia/packages/Hecke/SROq0/src/Map/NumberField.jl:445\n  automorphisms(!Matched::GrpGen) at /home/taylor/.julia/packages/Hecke/SROq0/src/Grp/Morphisms.jl:198\n  ...",
     "output_type": "error",
     "traceback": [
      "MethodError: no method matching automorphisms(::NfAbsNS)\nClosest candidates are:\n  automorphisms(!Matched::CyclotomicExt; gens, copy) at /home/taylor/.julia/packages/Hecke/SROq0/src/RCF/cyclo.jl:397\n  automorphisms(!Matched::AnticNumberField; copy) at /home/taylor/.julia/packages/Hecke/SROq0/src/Map/NumberField.jl:445\n  automorphisms(!Matched::GrpGen) at /home/taylor/.julia/packages/Hecke/SROq0/src/Grp/Morphisms.jl:198\n  ...",
      "",
      "Stacktrace:",
      " [1] top-level scope at In[44]:1",
      " [2] include_string(::Function, ::Module, ::String, ::String) at ./loading.jl:1091"
     ]
    }
   ],
   "source": [
    "automorphisms(L)"
   ]
  },
  {
   "cell_type": "code",
   "execution_count": 32,
   "metadata": {},
   "outputs": [
    {
     "data": {
      "text/html": [
       "[$\\alpha$, $\\frac{21}{50}\\alpha^{7} - \\frac{203}{25}\\alpha^{5} + \\frac{552}{25}\\alpha^{3} - \\frac{133}{10}\\alpha$, $-\\alpha$, $-\\frac{21}{50}\\alpha^{7} + \\frac{203}{25}\\alpha^{5} - \\frac{552}{25}\\alpha^{3} + \\frac{133}{10}\\alpha$, $-\\frac{7}{20}\\alpha^{7} + \\frac{33}{5}\\alpha^{5} - \\frac{77}{5}\\alpha^{3} + \\frac{27}{4}\\alpha$, $-\\frac{53}{100}\\alpha^{7} + \\frac{252}{25}\\alpha^{5} - \\frac{618}{25}\\alpha^{3} + \\frac{189}{20}\\alpha$, $\\frac{7}{20}\\alpha^{7} - \\frac{33}{5}\\alpha^{5} + \\frac{77}{5}\\alpha^{3} - \\frac{27}{4}\\alpha$, $\\frac{53}{100}\\alpha^{7} - \\frac{252}{25}\\alpha^{5} + \\frac{618}{25}\\alpha^{3} - \\frac{189}{20}\\alpha$]"
      ],
      "text/plain": [
       "8-element Array{nf_elem,1}:\n",
       " _a\n",
       " 21//50*_a^7 - 203//25*_a^5 + 552//25*_a^3 - 133//10*_a\n",
       " -_a\n",
       " -21//50*_a^7 + 203//25*_a^5 - 552//25*_a^3 + 133//10*_a\n",
       " -7//20*_a^7 + 33//5*_a^5 - 77//5*_a^3 + 27//4*_a\n",
       " -53//100*_a^7 + 252//25*_a^5 - 618//25*_a^3 + 189//20*_a\n",
       " 7//20*_a^7 - 33//5*_a^5 + 77//5*_a^3 - 27//4*_a\n",
       " 53//100*_a^7 - 252//25*_a^5 + 618//25*_a^3 - 189//20*_a"
      ]
     },
     "execution_count": 32,
     "metadata": {},
     "output_type": "execute_result"
    }
   ],
   "source": [
    "[f(gen(N[1])) for f in automorphisms(N[1])]"
   ]
  },
  {
   "cell_type": "markdown",
   "metadata": {},
   "source": [
    "There is more possible than what is found in the online documentation, look also in the examples in Oscar.jl! For example, we can compute the Galois group of a number field by first loading the example Oscar.example(\"GaloisGrp.jl\")."
   ]
  },
  {
   "cell_type": "code",
   "execution_count": 33,
   "metadata": {},
   "outputs": [
    {
     "name": "stdout",
     "output_type": "stream",
     "text": [
      "#I  Getting PackageInfo URLs...\n",
      "#I  Retrieving PackageInfo.g from https://gap-packages.github.io/ferret/PackageInfo.g ...\n",
      "#I  The newest version of package \"ferret\" is already installed\n"
     ]
    }
   ],
   "source": [
    "Oscar.example(\"GaloisGrp.jl\")"
   ]
  },
  {
   "cell_type": "code",
   "execution_count": 34,
   "metadata": {},
   "outputs": [
    {
     "name": "stdout",
     "output_type": "stream",
     "text": [
      "search: \u001b[0m\u001b[1mg\u001b[22m\u001b[0m\u001b[1ma\u001b[22m\u001b[0m\u001b[1ml\u001b[22m\u001b[0m\u001b[1mo\u001b[22m\u001b[0m\u001b[1mi\u001b[22m\u001b[0m\u001b[1ms\u001b[22m\u001b[0m\u001b[1m_\u001b[22m\u001b[0m\u001b[1mg\u001b[22m\u001b[0m\u001b[1mr\u001b[22m\u001b[0m\u001b[1mo\u001b[22m\u001b[0m\u001b[1mu\u001b[22m\u001b[0m\u001b[1mp\u001b[22m\n",
      "\n"
     ]
    },
    {
     "data": {
      "text/latex": [
       "No documentation found.\n",
       "\n",
       "\\texttt{Main.GaloisGrp.galois\\_group} is a \\texttt{Function}.\n",
       "\n",
       "\\begin{verbatim}\n",
       "# 2 methods for generic function \"galois_group\":\n",
       "[1] galois_group(K::AnticNumberField, extra::Int64) in Main.GaloisGrp at /home/taylor/.julia/packages/Oscar/YX0cd/examples/GaloisGrp.jl:508\n",
       "[2] galois_group(K::AnticNumberField) in Main.GaloisGrp at /home/taylor/.julia/packages/Oscar/YX0cd/examples/GaloisGrp.jl:508\n",
       "\\end{verbatim}\n"
      ],
      "text/markdown": [
       "No documentation found.\n",
       "\n",
       "`Main.GaloisGrp.galois_group` is a `Function`.\n",
       "\n",
       "```\n",
       "# 2 methods for generic function \"galois_group\":\n",
       "[1] galois_group(K::AnticNumberField, extra::Int64) in Main.GaloisGrp at /home/taylor/.julia/packages/Oscar/YX0cd/examples/GaloisGrp.jl:508\n",
       "[2] galois_group(K::AnticNumberField) in Main.GaloisGrp at /home/taylor/.julia/packages/Oscar/YX0cd/examples/GaloisGrp.jl:508\n",
       "```\n"
      ],
      "text/plain": [
       "  No documentation found.\n",
       "\n",
       "  \u001b[36mMain.GaloisGrp.galois_group\u001b[39m is a \u001b[36mFunction\u001b[39m.\n",
       "\n",
       "\u001b[36m  # 2 methods for generic function \"galois_group\":\u001b[39m\n",
       "\u001b[36m  [1] galois_group(K::AnticNumberField, extra::Int64) in Main.GaloisGrp at /home/taylor/.julia/packages/Oscar/YX0cd/examples/GaloisGrp.jl:508\u001b[39m\n",
       "\u001b[36m  [2] galois_group(K::AnticNumberField) in Main.GaloisGrp at /home/taylor/.julia/packages/Oscar/YX0cd/examples/GaloisGrp.jl:508\u001b[39m"
      ]
     },
     "execution_count": 34,
     "metadata": {},
     "output_type": "execute_result"
    }
   ],
   "source": [
    "?galois_group"
   ]
  },
  {
   "cell_type": "markdown",
   "metadata": {},
   "source": [
    "When computing a Galois group of a field extension, we get a group as well as some extra data."
   ]
  },
  {
   "cell_type": "code",
   "execution_count": 35,
   "metadata": {},
   "outputs": [
    {
     "data": {
      "text/html": [
       "($\\text{Number field over Rational field with defining polynomial }x^{5} - 2$, $\\alpha$)"
      ],
      "text/plain": [
       "(Number field over Rational Field with defining polynomial x^5 - 2, _a)"
      ]
     },
     "execution_count": 35,
     "metadata": {},
     "output_type": "execute_result"
    }
   ],
   "source": [
    "k = number_field(x^5-2)"
   ]
  },
  {
   "cell_type": "code",
   "execution_count": 36,
   "metadata": {},
   "outputs": [
    {
     "data": {
      "text/html": [
       "(Group([ (2,4,3,5), (2,3)(4,5), (1,2,4,5,3) ]), Galois Context for x^5 - 2 and prime 1048589)"
      ],
      "text/plain": [
       "(Group([ (2,4,3,5), (2,3)(4,5), (1,2,4,5,3) ]), Galois Context for x^5 - 2 and prime 1048589)"
      ]
     },
     "execution_count": 36,
     "metadata": {},
     "output_type": "execute_result"
    }
   ],
   "source": [
    "Gal, C = galois_group(k[1])"
   ]
  },
  {
   "cell_type": "markdown",
   "metadata": {},
   "source": [
    "The group is given in terms of permutations of the roots of the polynomial, which are approximated $p$-adically (in this case 1048589-adically). We can ask for these roots up to some precision. "
   ]
  },
  {
   "cell_type": "code",
   "execution_count": 37,
   "metadata": {},
   "outputs": [
    {
     "data": {
      "text/plain": [
       "5-element Array{qadic,1}:\n",
       " (583730 + 787380*1048589^1 + 903235*1048589^2 + 589921*1048589^3 + 88635*1048589^4 + 403887*1048589^5 + 372677*1048589^6 + 951114*1048589^7 + 31719*1048589^8 + 433674*1048589^9 + O(1048589^10))\n",
       " (333313 + 332507*1048589^1 + 859848*1048589^2 + 615817*1048589^3 + 524847*1048589^4 + 916840*1048589^5 + 671321*1048589^6 + 644787*1048589^7 + 745453*1048589^8 + 565201*1048589^9 + O(1048589^10))*a + (655516 + 757137*1048589^1 + 763232*1048589^2 + 175390*1048589^3 + 891376*1048589^4 + 590715*1048589^5 + 82785*1048589^6 + 133145*1048589^7 + 740684*1048589^8 + 528669*1048589^9 + O(1048589^10))\n",
       " (715276 + 716081*1048589^1 + 188740*1048589^2 + 432771*1048589^3 + 523741*1048589^4 + 131748*1048589^5 + 377267*1048589^6 + 403801*1048589^7 + 303135*1048589^8 + 483387*1048589^9 + O(1048589^10))*a + (576975 + 770960*1048589^1 + 885101*1048589^2 + 715170*1048589^3 + 1046468*1048589^4 + 995006*1048589^5 + 506705*1048589^6 + 10382*1048589^7 + 95967*1048589^8 + 119635*1048589^9 + O(1048589^10))\n",
       " (641808 + 805075*1048589^1 + 492836*1048589^2 + 1037930*1048589^3 + 837771*1048589^4 + 918775*1048589^5 + 807900*1048589^6 + 1048190*1048589^7 + 219893*1048589^8 + 616621*1048589^9 + O(1048589^10))*a + (419477 + 566070*1048589^1 + 1022543*1048589^2 + 853783*1048589^3 + 877045*1048589^4 + 994949*1048589^5 + 642986*1048589^6 + 200223*1048589^7 + 728044*1048589^8 + 685727*1048589^9 + O(1048589^10))\n",
       " (406781 + 243513*1048589^1 + 555752*1048589^2 + 10658*1048589^3 + 210817*1048589^4 + 129813*1048589^5 + 240688*1048589^6 + 398*1048589^7 + 828695*1048589^8 + 431967*1048589^9 + O(1048589^10))*a + (910069 + 264217*1048589^1 + 620242*1048589^2 + 811499*1048589^3 + 242240*1048589^4 + 161207*1048589^5 + 492022*1048589^6 + 802312*1048589^7 + 500762*1048589^8 + 329471*1048589^9 + O(1048589^10))"
      ]
     },
     "execution_count": 37,
     "metadata": {},
     "output_type": "execute_result"
    }
   ],
   "source": [
    "roots(C, 10)"
   ]
  },
  {
   "cell_type": "markdown",
   "metadata": {},
   "source": [
    "The Galois group has 3 generators. But there is only one field automorphism of $k$!"
   ]
  },
  {
   "cell_type": "code",
   "execution_count": 38,
   "metadata": {},
   "outputs": [
    {
     "data": {
      "text/html": [
       "[$\\text{Map from }\\text{Number field over Rational field with defining polynomial }x^{5} - 2\\to \\text{Number field over Rational field with defining polynomial }x^{5} - 2$]"
      ],
      "text/plain": [
       "1-element Array{NfToNfMor,1}:\n",
       " Automorphism of Number field over Rational Field with defining polynomial x^5 - 2\n",
       "defined by _a -> _a\n"
      ]
     },
     "execution_count": 38,
     "metadata": {},
     "output_type": "execute_result"
    }
   ],
   "source": [
    "automorphisms(k[1])"
   ]
  },
  {
   "cell_type": "markdown",
   "metadata": {},
   "source": [
    "This is because the field extension is not normal, so OSCAR computed the Galois group of the splitting field of the polynomial. Let's check that this is indeed the case."
   ]
  },
  {
   "cell_type": "code",
   "execution_count": 39,
   "metadata": {},
   "outputs": [
    {
     "data": {
      "text/html": [
       "(Group([ (1,16,8,20)(2,13,4,18)(3,15,5,11)(6,17,10,19)(7,14,9,12), (1,8)(2,4)(3,5)(6,10)(7,9)(11,15)(12,14)(13,18)(16,20)(17,19), (1,5,7,4,10)(2,9,3,8,6)(11,18,16,14,19)(12,20,13,15,17) ]), Galois Context for x^20 + 156*x^15 + 39376*x^10 + 421776*x^5 + 2576816 and prime 1048589)"
      ],
      "text/plain": [
       "(Group([ (1,16,8,20)(2,13,4,18)(3,15,5,11)(6,17,10,19)(7,14,9,12), (1,8)(2,4)(3,5)(6,10)(7,9)(11,15)(12,14)(13,18)(16,20)(17,19), (1,5,7,4,10)(2,9,3,8,6)(11,18,16,14,19)(12,20,13,15,17) ]), Galois Context for x^20 + 156*x^15 + 39376*x^10 + 421776*x^5 + 2576816 and prime 1048589)"
      ]
     },
     "execution_count": 39,
     "metadata": {},
     "output_type": "execute_result"
    }
   ],
   "source": [
    "galois_group(splitting_field(x^5-2))"
   ]
  },
  {
   "cell_type": "code",
   "execution_count": 40,
   "metadata": {},
   "outputs": [
    {
     "data": {
      "text/html": [
       "(true, Group homomorphism from \n",
       "Group([ (1,16,8,20)(2,13,4,18)(3,15,5,11)(6,17,10,19)(7,14,9,12), (1,8)(2,4)(3,5)(6,10)(7,9)(11,15)(12,14)(13,18)(16,20)(17,19), (1,5,7,4,10)(2,9,3,8,6)(11,18,16,14,19)(12,20,13,15,17) ])\n",
       "to\n",
       "Group([ (2,4,3,5), (2,3)(4,5), (1,2,4,5,3) ])\n",
       ")"
      ],
      "text/plain": [
       "(true, Group homomorphism from \n",
       "Group([ (1,16,8,20)(2,13,4,18)(3,15,5,11)(6,17,10,19)(7,14,9,12), (1,8)(2,4)(3,5)(6,10)(7,9)(11,15)(12,14)(13,18)(16,20)(17,19), (1,5,7,4,10)(2,9,3,8,6)(11,18,16,14,19)(12,20,13,15,17) ])\n",
       "to\n",
       "Group([ (2,4,3,5), (2,3)(4,5), (1,2,4,5,3) ])\n",
       ")"
      ]
     },
     "execution_count": 40,
     "metadata": {},
     "output_type": "execute_result"
    }
   ],
   "source": [
    "isisomorphic(ans[1], galois_group(k[1])[1])"
   ]
  },
  {
   "cell_type": "markdown",
   "metadata": {},
   "source": [
    "Of course, when the field extension is a Galois extension, the Galois group is equal to the automorphism group. "
   ]
  },
  {
   "cell_type": "code",
   "execution_count": 41,
   "metadata": {},
   "outputs": [
    {
     "data": {
      "text/html": [
       "($\\text{Number field over Rational field with defining polynomial }x^{8} - 21x^{6} + 84x^{4} - 105x^{2} + 25$, $\\alpha$)"
      ],
      "text/plain": [
       "(Number field over Rational Field with defining polynomial x^8 - 21*x^6 + 84*x^4 - 105*x^2 + 25, _a)"
      ]
     },
     "execution_count": 41,
     "metadata": {},
     "output_type": "execute_result"
    }
   ],
   "source": [
    "N"
   ]
  },
  {
   "cell_type": "code",
   "execution_count": 42,
   "metadata": {},
   "outputs": [
    {
     "data": {
      "text/html": [
       "(Group([ (), (1,7)(2,6)(3,5)(4,8), (1,8,3,6)(2,5,4,7) ]), Galois Context for x^8 - 21*x^6 + 84*x^4 - 105*x^2 + 25 and prime 1048583)"
      ],
      "text/plain": [
       "(Group([ (), (1,7)(2,6)(3,5)(4,8), (1,8,3,6)(2,5,4,7) ]), Galois Context for x^8 - 21*x^6 + 84*x^4 - 105*x^2 + 25 and prime 1048583)"
      ]
     },
     "execution_count": 42,
     "metadata": {},
     "output_type": "execute_result"
    }
   ],
   "source": [
    "G = galois_group(N[1])\n"
   ]
  },
  {
   "cell_type": "markdown",
   "metadata": {},
   "source": [
    "How can we find out which group this is? We are lucky that we are working in OSCAR, and can ask our group specialist (i.e. Mima)! She told us to just give her an id of the group, and the rest will be taken care of. "
   ]
  },
  {
   "cell_type": "code",
   "execution_count": 43,
   "metadata": {},
   "outputs": [
    {
     "data": {
      "text/html": [
       "($8$, $3$)"
      ],
      "text/plain": [
       "(8, 3)"
      ]
     },
     "execution_count": 43,
     "metadata": {},
     "output_type": "execute_result"
    }
   ],
   "source": [
    "small_group_identification(G[1])"
   ]
  },
  {
   "cell_type": "code",
   "execution_count": null,
   "metadata": {},
   "outputs": [],
   "source": []
  },
  {
   "cell_type": "code",
   "execution_count": null,
   "metadata": {},
   "outputs": [],
   "source": []
  }
 ],
 "metadata": {
  "kernelspec": {
   "display_name": "Julia 1.5.2",
   "language": "julia",
   "name": "julia-1.5"
  },
  "language_info": {
   "file_extension": ".jl",
   "mimetype": "application/julia",
   "name": "julia",
   "version": "1.5.2"
  }
 },
 "nbformat": 4,
 "nbformat_minor": 4
}
