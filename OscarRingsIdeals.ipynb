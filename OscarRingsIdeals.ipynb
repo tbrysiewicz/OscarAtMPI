{
 "cells": [
  {
   "cell_type": "code",
   "execution_count": 1,
   "metadata": {},
   "outputs": [
    {
     "data": {
      "text/html": [
       "$\\require{action}$"
      ]
     },
     "metadata": {},
     "output_type": "display_data"
    },
    {
     "name": "stdout",
     "output_type": "stream",
     "text": [
      " -----    -----    -----      -      -----   \n",
      "|     |  |     |  |     |    | |    |     |  \n",
      "|     |  |        |         |   |   |     |  \n",
      "|     |   -----   |        |     |  |-----   \n",
      "|     |        |  |        |-----|  |   |    \n",
      "|     |  |     |  |     |  |     |  |    |   \n",
      " -----    -----    -----   -     -  -     -  \n",
      "\n",
      "...combining (and extending) ANTIC, GAP, Polymake and Singular\n",
      "Version\u001b[32m 0.5.0 \u001b[39m... \n",
      " ... which comes with absolutely no warranty whatsoever\n",
      "Type: '?Oscar' for more information\n",
      "(c) 2019-2020 by The Oscar Development Team\n"
     ]
    }
   ],
   "source": [
    "using Oscar"
   ]
  },
  {
   "cell_type": "markdown",
   "metadata": {},
   "source": [
    "### First let's try things like with Taylor's presentation: working directly with Singular"
   ]
  },
  {
   "cell_type": "code",
   "execution_count": 45,
   "metadata": {},
   "outputs": [
    {
     "data": {
      "text/plain": [
       "Rational Field"
      ]
     },
     "execution_count": 45,
     "metadata": {},
     "output_type": "execute_result"
    }
   ],
   "source": [
    "# this is how to write a comment\n",
    "# field of rational numbers in Singular\n",
    "K1 = Singular.QQ"
   ]
  },
  {
   "cell_type": "code",
   "execution_count": 46,
   "metadata": {},
   "outputs": [
    {
     "data": {
      "text/plain": [
       "Finite Field of Characteristic 7"
      ]
     },
     "execution_count": 46,
     "metadata": {},
     "output_type": "execute_result"
    }
   ],
   "source": [
    "# a finite field in Singular\n",
    "K2 = Singular.Fp(7)"
   ]
  },
  {
   "cell_type": "code",
   "execution_count": 47,
   "metadata": {},
   "outputs": [
    {
     "data": {
      "text/html": [
       "($\\text{Multivariate Polynomial Ring in 4 variables:} [a, b, c, d]\\text{ over } $Rational Field$ $, [$a$, $b$, $c$, $d$])"
      ],
      "text/plain": [
       "(Singular Polynomial Ring (QQ),(a,b,c,d),(dp(4),C), Singular.spoly{Singular.n_Q}[a, b, c, d])"
      ]
     },
     "execution_count": 47,
     "metadata": {},
     "output_type": "execute_result"
    }
   ],
   "source": [
    "# a multivariate polynomial ring in Singular\n",
    "R1,(a,b,c,d) = Singular.PolynomialRing(K1,[\"a\",\"b\",\"c\",\"d\"], ordering=:degrevlex)"
   ]
  },
  {
   "cell_type": "code",
   "execution_count": 48,
   "metadata": {},
   "outputs": [
    {
     "data": {
      "text/plain": [
       "Singular.PolyRing{Singular.n_Q}"
      ]
     },
     "execution_count": 48,
     "metadata": {},
     "output_type": "execute_result"
    }
   ],
   "source": [
    "typeof(R1) # so R1 is some object with type Singular.PolyRing"
   ]
  },
  {
   "cell_type": "code",
   "execution_count": 49,
   "metadata": {},
   "outputs": [
    {
     "data": {
      "text/html": [
       "($\\text{Multivariate Polynomial Ring in 3 variables:} [x, y, z]\\text{ over } $Finite Field of Characteristic 7$ $, [$x$, $y$, $z$])"
      ],
      "text/plain": [
       "(Singular Polynomial Ring (ZZ/7),(x,y,z),(dp(3),C), Singular.spoly{Singular.n_Zp}[x, y, z])"
      ]
     },
     "execution_count": 49,
     "metadata": {},
     "output_type": "execute_result"
    }
   ],
   "source": [
    "R2,(x,y,z) = Singular.PolynomialRing(K2,[\"x\",\"y\",\"z\"], ordering=:degrevlex)"
   ]
  },
  {
   "cell_type": "code",
   "execution_count": 50,
   "metadata": {},
   "outputs": [],
   "source": [
    "# one can do arithmetics as one would expect\n",
    "f = (a+b+c)^3 - a*b*c\n",
    "g = a^5+13*b+7*c\n",
    "h = f^2+g*f; #semicolons suppress output"
   ]
  },
  {
   "cell_type": "code",
   "execution_count": 51,
   "metadata": {},
   "outputs": [
    {
     "data": {
      "text/plain": [
       "Singular Ideal over Singular Polynomial Ring (QQ),(a,b,c,d),(dp(4),C) with generators (a^3+3*a^2*b+3*a*b^2+b^3+3*a^2*c+5*a*b*c+3*b^2*c+3*a*c^2+3*b*c^2+c^3, a^8+3*a^7*b+3*a^6*b^2+a^5*b^3+3*a^7*c+5*a^6*b*c+3*a^5*b^2*c+3*a^6*c^2+3*a^5*b*c^2+a^5*c^3+a^6+6*a^5*b+15*a^4*b^2+20*a^3*b^3+15*a^2*b^4+6*a*b^5+b^6+6*a^5*c+28*a^4*b*c+54*a^3*b^2*c+54*a^2*b^3*c+28*a*b^4*c+6*b^5*c+15*a^4*c^2+54*a^3*b*c^2+79*a^2*b^2*c^2+54*a*b^3*c^2+15*b^4*c^2+20*a^3*c^3+54*a^2*b*c^3+54*a*b^2*c^3+20*b^3*c^3+15*a^2*c^4+28*a*b*c^4+15*b^2*c^4+6*a*c^5+6*b*c^5+c^6+13*a^3*b+39*a^2*b^2+39*a*b^3+13*b^4+7*a^3*c+60*a^2*b*c+86*a*b^2*c+46*b^3*c+21*a^2*c^2+74*a*b*c^2+60*b^2*c^2+21*a*c^3+34*b*c^3+7*c^4, a^20+52*a^15*b+28*a^15*c+1014*a^10*b^2+1092*a^10*b*c+294*a^10*c^2+8788*a^5*b^3+14196*a^5*b^2*c+7644*a^5*b*c^2+1372*a^5*c^3+28561*b^4+61516*b^3*c+49686*b^2*c^2+17836*b*c^3+2401*c^4)"
      ]
     },
     "execution_count": 51,
     "metadata": {},
     "output_type": "execute_result"
    }
   ],
   "source": [
    "# defining ideals\n",
    "J = Singular.Ideal(R1,f,h,g^4)"
   ]
  },
  {
   "cell_type": "code",
   "execution_count": 52,
   "metadata": {},
   "outputs": [
    {
     "data": {
      "text/plain": [
       "Singular Ideal over Singular Polynomial Ring (ZZ/7),(x,y,z),(dp(3),C) with generators (-x*y*z+x^2, x*z^3)"
      ]
     },
     "execution_count": 52,
     "metadata": {},
     "output_type": "execute_result"
    }
   ],
   "source": [
    "# Let's write an ideal over the finite field\n",
    "p = x^2 - x*y*z\n",
    "q = x*z^3\n",
    "I = Singular.Ideal(R2,p,q)"
   ]
  },
  {
   "cell_type": "code",
   "execution_count": 53,
   "metadata": {},
   "outputs": [
    {
     "data": {
      "text/plain": [
       "2-element Array{Array{Singular.sideal{Singular.spoly{Singular.n_Zp}},1},1}:\n",
       " [Singular Ideal over Singular Polynomial Ring (ZZ/7),(x,y,z),(dp(3),C) with generators (x), Singular Ideal over Singular Polynomial Ring (ZZ/7),(x,y,z),(dp(3),C) with generators (x)]\n",
       " [Singular Ideal over Singular Polynomial Ring (ZZ/7),(x,y,z),(dp(3),C) with generators (z^3, -x*y*z+x^2), Singular Ideal over Singular Polynomial Ring (ZZ/7),(x,y,z),(dp(3),C) with generators (z, x)]"
      ]
     },
     "execution_count": 53,
     "metadata": {},
     "output_type": "execute_result"
    }
   ],
   "source": [
    "# We can call from the library primdec to perform a primary decomposition\n",
    "##(might get some extra output first time you run it)\n",
    "P = Singular.LibPrimdec.primdecGTZ(R2,I)"
   ]
  },
  {
   "cell_type": "code",
   "execution_count": 11,
   "metadata": {},
   "outputs": [
    {
     "data": {
      "text/html": [
       "$2$"
      ],
      "text/latex": [
       "2"
      ],
      "text/plain": [
       "2"
      ]
     },
     "execution_count": 11,
     "metadata": {},
     "output_type": "execute_result"
    }
   ],
   "source": [
    "Singular.ngens(I) "
   ]
  },
  {
   "cell_type": "code",
   "execution_count": 12,
   "metadata": {},
   "outputs": [
    {
     "data": {
      "text/plain": [
       "Singular Ideal over Singular Polynomial Ring (ZZ/7),(x,y,z),(dp(3),C) with generators (x*y*z-x^2, x*z^3, x^2*z^2, x^3*z, x^4)"
      ]
     },
     "execution_count": 12,
     "metadata": {},
     "output_type": "execute_result"
    }
   ],
   "source": [
    "GI = Singular.std(I)"
   ]
  },
  {
   "cell_type": "code",
   "execution_count": 13,
   "metadata": {},
   "outputs": [
    {
     "data": {
      "text/html": [
       "$5$"
      ],
      "text/latex": [
       "5"
      ],
      "text/plain": [
       "5"
      ]
     },
     "execution_count": 13,
     "metadata": {},
     "output_type": "execute_result"
    }
   ],
   "source": [
    "Singular.ngens(GI)"
   ]
  },
  {
   "cell_type": "code",
   "execution_count": 14,
   "metadata": {},
   "outputs": [
    {
     "data": {
      "text/html": [
       "false"
      ],
      "text/latex": [
       "false"
      ],
      "text/plain": [
       "false"
      ]
     },
     "execution_count": 14,
     "metadata": {},
     "output_type": "execute_result"
    }
   ],
   "source": [
    "Singular.iszerodim(I)"
   ]
  },
  {
   "cell_type": "code",
   "execution_count": 15,
   "metadata": {},
   "outputs": [
    {
     "data": {
      "text/html": [
       "$2$"
      ],
      "text/latex": [
       "2"
      ],
      "text/plain": [
       "2"
      ]
     },
     "execution_count": 15,
     "metadata": {},
     "output_type": "execute_result"
    }
   ],
   "source": [
    "Singular.dimension(GI)"
   ]
  },
  {
   "cell_type": "code",
   "execution_count": 16,
   "metadata": {},
   "outputs": [
    {
     "data": {
      "text/plain": [
       "Singular Ideal over Singular Polynomial Ring (ZZ/7),(x,y,z),(dp(3),C) with generators (x^2*y+x-y+z, y^5+2, y^4*z-x^3+1)"
      ]
     },
     "execution_count": 16,
     "metadata": {},
     "output_type": "execute_result"
    }
   ],
   "source": [
    "J = Singular.Ideal(R2,x^2*y+x-y+z,y^5-12,z*y^4-x^3+1)"
   ]
  },
  {
   "cell_type": "code",
   "execution_count": 17,
   "metadata": {},
   "outputs": [
    {
     "data": {
      "text/plain": [
       "Singular Ideal over Singular Polynomial Ring (ZZ/7),(x,y,z),(dp(3),C) with generators (x^2-x*y+x*z+y-2*z, y^2*z-x*z^2-y*z^2-z^3+2*x*y-3*y^2-3*x*z+y*z+2*z^2+y-2*z, x*y*z-x*y+x*z+z^2+x-2*y+3*z, x*y^2-x*y-y^2+x*z+2*y*z+z^2+2*x-3*y-3*z, x*z^3+3*y*z^3+2*z^4-2*y^3+3*x*z^2+2*y*z^2+2*z^3+3*x*y-2*y^2+2*x*z-y*z-3*z^2-x+2*y-2*z-1, y^4-3*y*z^3+3*z^4-y^3-3*x*z^2+z^3+2*x*y+2*y^2+2*x*z+y*z+2*z^2+2*x+y-z-2, z^5+y*z^3+z^4-2*y^3+3*x*z^2-y*z^2-z^3-2*x*y+y*z-z^2-3*x+y+3*z+3, y*z^4+3*z^4-3*y^3+x*z^2+2*y*z^2-3*z^3+x*y-3*y^2+3*x*z-3*y*z-3*z^2+2*x-y-z)"
      ]
     },
     "execution_count": 17,
     "metadata": {},
     "output_type": "execute_result"
    }
   ],
   "source": [
    "G = Singular.fglm(J,:lex)"
   ]
  },
  {
   "cell_type": "code",
   "execution_count": 18,
   "metadata": {},
   "outputs": [
    {
     "data": {
      "text/html": [
       "true"
      ],
      "text/latex": [
       "true"
      ],
      "text/plain": [
       "true"
      ]
     },
     "execution_count": 18,
     "metadata": {},
     "output_type": "execute_result"
    }
   ],
   "source": [
    "Singular.iszerodim(G)"
   ]
  },
  {
   "cell_type": "code",
   "execution_count": 19,
   "metadata": {},
   "outputs": [
    {
     "data": {
      "text/html": [
       "$15$"
      ],
      "text/latex": [
       "15"
      ],
      "text/plain": [
       "15"
      ]
     },
     "execution_count": 19,
     "metadata": {},
     "output_type": "execute_result"
    }
   ],
   "source": [
    "Singular.vdim(G)"
   ]
  },
  {
   "cell_type": "markdown",
   "metadata": {},
   "source": [
    "# Using Oscar: So how is this implemented in Oscar?"
   ]
  },
  {
   "cell_type": "code",
   "execution_count": 54,
   "metadata": {},
   "outputs": [
    {
     "data": {
      "text/html": [
       "$x^{2} - xyz$"
      ],
      "text/plain": [
       "x^2 - x*y*z"
      ]
     },
     "execution_count": 54,
     "metadata": {},
     "output_type": "execute_result"
    }
   ],
   "source": [
    "# The syntax looks similar. You do not need Singular.<function> because these\n",
    "# are functions in OSCAR\n",
    "T, (x,y,z) = PolynomialRing(QQ, [\"x\",\"y\",\"z\"])\n",
    "p = x^2-x*y*z"
   ]
  },
  {
   "cell_type": "code",
   "execution_count": 55,
   "metadata": {},
   "outputs": [
    {
     "data": {
      "text/plain": [
       "FmpqMPolyRing"
      ]
     },
     "execution_count": 55,
     "metadata": {},
     "output_type": "execute_result"
    }
   ],
   "source": [
    "typeof(T) #Now instead of Singular.PolynomialRing, this is an object of type FmpqMPolyRing"
   ]
  },
  {
   "cell_type": "code",
   "execution_count": 56,
   "metadata": {},
   "outputs": [
    {
     "data": {
      "text/html": [
       "$\\text{ideal generated by: }x^{2} - xyz, xz^{3}$"
      ],
      "text/latex": [
       "$\\text{ideal generated by: }x^{2} - xyz, xz^{3}$"
      ],
      "text/plain": [
       "ideal generated by: x^2 - x*y*z, x*z^3"
      ]
     },
     "execution_count": 56,
     "metadata": {},
     "output_type": "execute_result"
    }
   ],
   "source": [
    "I = ideal([p,x*z^3]) # square brackets [] around generators\n",
    "# caveat: at present, ideals cannot be defined in the univariate polynomial ring (type issue)"
   ]
  },
  {
   "cell_type": "code",
   "execution_count": 57,
   "metadata": {},
   "outputs": [
    {
     "data": {
      "text/plain": [
       "Oscar.MPolyIdeal{fmpq_mpoly}"
      ]
     },
     "execution_count": 57,
     "metadata": {},
     "output_type": "execute_result"
    }
   ],
   "source": [
    "typeof(I) #and an ideal is an Oscar.MPolyIdeal"
   ]
  },
  {
   "cell_type": "code",
   "execution_count": 58,
   "metadata": {},
   "outputs": [
    {
     "data": {
      "text/html": [
       "(:gens, :gb, :dim)"
      ],
      "text/plain": [
       "(:gens, :gb, :dim)"
      ]
     },
     "execution_count": 58,
     "metadata": {},
     "output_type": "execute_result"
    }
   ],
   "source": [
    "#Let's look a bit deeper into what I is.\n",
    "#Firstly, I has fieldnames of  gens, gb, and dim\n",
    "fieldnames(Oscar.MPolyIdeal)"
   ]
  },
  {
   "cell_type": "code",
   "execution_count": 59,
   "metadata": {},
   "outputs": [
    {
     "ename": "LoadError",
     "evalue": "UndefRefError: access to undefined reference",
     "output_type": "error",
     "traceback": [
      "UndefRefError: access to undefined reference",
      "",
      "Stacktrace:",
      " [1] getproperty(::Oscar.MPolyIdeal{fmpq_mpoly}, ::Symbol) at ./Base.jl:33",
      " [2] top-level scope at In[59]:1",
      " [3] include_string(::Function, ::Module, ::String, ::String) at ./loading.jl:1091"
     ]
    }
   ],
   "source": [
    "I.gb \n",
    "#Look. There's an error when trying to ask for its groebner basis,\n",
    "#because this hasn't been computed yet\n",
    "#If you ask for its dimension, you get -1, indicating that it has not been computed yet."
   ]
  },
  {
   "cell_type": "code",
   "execution_count": 26,
   "metadata": {},
   "outputs": [
    {
     "data": {
      "text/html": [
       "[$-x^{2} + xyz$, $xz^{3}$, $x^{2}z^{2}$, $x^{3}z$, $x^{4}$]"
      ],
      "text/plain": [
       "5-element Array{fmpq_mpoly,1}:\n",
       " -x^2 + x*y*z\n",
       " x*z^3\n",
       " x^2*z^2\n",
       " x^3*z\n",
       " x^4"
      ]
     },
     "execution_count": 26,
     "metadata": {},
     "output_type": "execute_result"
    }
   ],
   "source": [
    "groebner_basis(I)"
   ]
  },
  {
   "cell_type": "code",
   "execution_count": 27,
   "metadata": {},
   "outputs": [
    {
     "data": {
      "text/plain": [
       "Oscar.BiPolyArray{fmpq_mpoly}(fmpq_mpoly[-x^2 + x*y*z, x*z^3, x^2*z^2, x^3*z, x^4], Singular Ideal over Singular Polynomial Ring (QQ),(x,y,z),(dp(3),C) with generators (x*y*z-x^2, x*z^3, x^2*z^2, x^3*z, x^4), Multivariate Polynomial Ring in x, y, z over Rational Field, Singular Polynomial Ring (QQ),(x,y,z),(dp(3),C))"
      ]
     },
     "execution_count": 27,
     "metadata": {},
     "output_type": "execute_result"
    }
   ],
   "source": [
    "I.gb #The groebner basis is of type \"BiPolyArray\""
   ]
  },
  {
   "cell_type": "code",
   "execution_count": 28,
   "metadata": {},
   "outputs": [
    {
     "data": {
      "text/plain": [
       "Oscar.BiPolyArray{fmpq_mpoly}"
      ]
     },
     "execution_count": 28,
     "metadata": {},
     "output_type": "execute_result"
    }
   ],
   "source": [
    "typeof(I.gens) # so is I.gens"
   ]
  },
  {
   "cell_type": "code",
   "execution_count": 29,
   "metadata": {},
   "outputs": [
    {
     "data": {
      "text/html": [
       "(:O, :S, :Ox, :Sx)"
      ],
      "text/plain": [
       "(:O, :S, :Ox, :Sx)"
      ]
     },
     "execution_count": 29,
     "metadata": {},
     "output_type": "execute_result"
    }
   ],
   "source": [
    "# BiPolyArrays collect the generators and the ring of an ideal in Oscar and Singular.\n",
    "# O = Oscar generators\n",
    "# S = Singular generators\n",
    "# Ox = Oscar ring\n",
    "# Sx = Singular ring\n",
    "# Ideally, you'd like to only keep track of the Oscar info, but it makes sense to actually\n",
    "# keep the singular info too since we will secretly be calling singular to perform \n",
    "# computations\n",
    "fieldnames(typeof(I.gens))"
   ]
  },
  {
   "cell_type": "code",
   "execution_count": 30,
   "metadata": {},
   "outputs": [
    {
     "name": "stdout",
     "output_type": "stream",
     "text": [
      "fmpq_mpoly[x^2 - x*y*z, x*z^3]\n",
      "Singular Ideal over Singular Polynomial Ring (QQ),(x,y,z),(dp(3),C) with generators (-x*y*z+x^2, x*z^3)\n",
      "Multivariate Polynomial Ring in x, y, z over Rational Field\n",
      "Singular Polynomial Ring (QQ),(x,y,z),(dp(3),C)\n"
     ]
    }
   ],
   "source": [
    "println(I.gens.O) # print and begin new line\n",
    "println(I.gens.S)\n",
    "println(I.gens.Ox)\n",
    "println(I.gens.Sx)"
   ]
  },
  {
   "cell_type": "code",
   "execution_count": 31,
   "metadata": {},
   "outputs": [
    {
     "data": {
      "text/html": [
       "$2$"
      ],
      "text/latex": [
       "2"
      ],
      "text/plain": [
       "2"
      ]
     },
     "execution_count": 31,
     "metadata": {},
     "output_type": "execute_result"
    }
   ],
   "source": [
    "dim(I)"
   ]
  },
  {
   "cell_type": "code",
   "execution_count": 32,
   "metadata": {},
   "outputs": [],
   "source": [
    "# What if we wanted to do a primary decomp?\n",
    "# Well, this is not yet a function in Oscar, but  it is in Singular (as we've seen)\n",
    "# and our Oscar ideals have all the singular info in them!"
   ]
  },
  {
   "cell_type": "code",
   "execution_count": 33,
   "metadata": {},
   "outputs": [
    {
     "data": {
      "text/plain": [
       "2-element Array{Array{Singular.sideal{Singular.spoly{Singular.n_Q}},1},1}:\n",
       " [Singular Ideal over Singular Polynomial Ring (QQ),(x,y,z),(dp(3),C) with generators (x), Singular Ideal over Singular Polynomial Ring (QQ),(x,y,z),(dp(3),C) with generators (x)]\n",
       " [Singular Ideal over Singular Polynomial Ring (QQ),(x,y,z),(dp(3),C) with generators (z^3, -x*y*z+x^2), Singular Ideal over Singular Polynomial Ring (QQ),(x,y,z),(dp(3),C) with generators (z, x)]"
      ]
     },
     "execution_count": 33,
     "metadata": {},
     "output_type": "execute_result"
    }
   ],
   "source": [
    "#In Singular. In the LibPrimdec library. Use the function primdecGTZ. on the Singular ring,\n",
    "#  and the singular generators as arguments.\n",
    "P = Singular.LibPrimdec.primdecGTZ(I.gens.Sx,I.gens.S)"
   ]
  },
  {
   "cell_type": "code",
   "execution_count": 34,
   "metadata": {},
   "outputs": [
    {
     "name": "stdout",
     "output_type": "stream",
     "text": [
      "FmpqPolyRing\n",
      "fmpq_poly\n",
      "FmpqMPolyRing\n",
      "fmpq_mpoly\n",
      "Oscar.MPolyIdeal{fmpq_mpoly}\n"
     ]
    }
   ],
   "source": [
    "# Caveat: at present, ideals in a univariate polynomial ring are not encoded\n",
    "U,v = PolynomialRing(QQ,\"v\")\n",
    "println(typeof(U)) # U has type FmpqPolyRing\n",
    "println(typeof(v)) # the variable v has type fmpq_poly\n",
    "println(typeof(T)) # T has type FmpqMPolyring\n",
    "println(typeof(x)) # x has type fmpq_mpoly\n",
    "println(typeof(I)) # ideal eats elements of type fmpq_mpoly only"
   ]
  },
  {
   "cell_type": "code",
   "execution_count": 35,
   "metadata": {},
   "outputs": [],
   "source": [
    "# Writing functions is easy!"
   ]
  },
  {
   "cell_type": "code",
   "execution_count": 36,
   "metadata": {},
   "outputs": [
    {
     "data": {
      "text/plain": [
       "PrimaryDecomposition (generic function with 1 method)"
      ]
     },
     "execution_count": 36,
     "metadata": {},
     "output_type": "execute_result"
    }
   ],
   "source": [
    "function PrimaryDecomposition(I::Oscar.MPolyIdeal) \n",
    "    # This is a function called PrimaryDecomposition, which takes I as an input. and\n",
    "    # I should be an Oscar.MPolyIdeal\n",
    "    P=Singular.LibPrimdec.primdecGTZ(I.gens.Sx,I.gens.S)\n",
    "    return(P)\n",
    "end\n"
   ]
  },
  {
   "cell_type": "code",
   "execution_count": 37,
   "metadata": {},
   "outputs": [
    {
     "data": {
      "text/plain": [
       "2-element Array{Array{Singular.sideal{Singular.spoly{Singular.n_Q}},1},1}:\n",
       " [Singular Ideal over Singular Polynomial Ring (QQ),(x,y,z),(dp(3),C) with generators (x), Singular Ideal over Singular Polynomial Ring (QQ),(x,y,z),(dp(3),C) with generators (x)]\n",
       " [Singular Ideal over Singular Polynomial Ring (QQ),(x,y,z),(dp(3),C) with generators (z^3, -x*y*z+x^2), Singular Ideal over Singular Polynomial Ring (QQ),(x,y,z),(dp(3),C) with generators (z, x)]"
      ]
     },
     "execution_count": 37,
     "metadata": {},
     "output_type": "execute_result"
    }
   ],
   "source": [
    "# Now we've written a simpler function for primary decomposition\n",
    "PrimaryDecomposition(I)"
   ]
  },
  {
   "cell_type": "markdown",
   "metadata": {},
   "source": [
    "## Let's take one such primary component"
   ]
  },
  {
   "cell_type": "code",
   "execution_count": 38,
   "metadata": {},
   "outputs": [
    {
     "data": {
      "text/html": [
       "$2$"
      ],
      "text/latex": [
       "2"
      ],
      "text/plain": [
       "2"
      ]
     },
     "execution_count": 38,
     "metadata": {},
     "output_type": "execute_result"
    }
   ],
   "source": [
    "J = ideal([x])\n",
    "groebner_basis(J)\n",
    "dim(J)"
   ]
  },
  {
   "cell_type": "code",
   "execution_count": 39,
   "metadata": {},
   "outputs": [
    {
     "data": {
      "text/plain": [
       "Singular Ideal over Singular Polynomial Ring (QQ),(x,y,z),(dp(3),C) with generators (y*z-x, z^3, x*z^2, x^2*z, x^3)"
      ]
     },
     "execution_count": 39,
     "metadata": {},
     "output_type": "execute_result"
    }
   ],
   "source": [
    "Singular.quotient(I.gens.S,J.gens.S)"
   ]
  },
  {
   "cell_type": "markdown",
   "metadata": {},
   "source": [
    "## What else has been written for Oscar ideals?"
   ]
  },
  {
   "cell_type": "code",
   "execution_count": 40,
   "metadata": {},
   "outputs": [
    {
     "data": {
      "text/html": [
       "[PrimaryDecomposition(I::<b>Oscar.MPolyIdeal</b>) in Main at In[36]:1, base_ring(I::<b>Oscar.MPolyIdeal</b>) in Oscar at <a href=\"file:///home/taylor/.julia/packages/Oscar/YX0cd/src/Rings/mpoly.jl\" target=\"_blank\">/home/taylor/.julia/packages/Oscar/YX0cd/src/Rings/mpoly.jl:530</a>, dim(I::<b>Oscar.MPolyIdeal</b>) in Oscar at <a href=\"file:///home/taylor/.julia/packages/Oscar/YX0cd/src/Rings/mpoly.jl\" target=\"_blank\">/home/taylor/.julia/packages/Oscar/YX0cd/src/Rings/mpoly.jl:515</a>, gen(I::<b>Oscar.MPolyIdeal</b>, i::<b>Int64</b>) in Oscar at <a href=\"file:///home/taylor/.julia/packages/Oscar/YX0cd/src/Rings/mpoly.jl\" target=\"_blank\">/home/taylor/.julia/packages/Oscar/YX0cd/src/Rings/mpoly.jl:442</a>, gens(I::<b>Oscar.MPolyIdeal</b>) in Oscar at <a href=\"file:///home/taylor/.julia/packages/Oscar/YX0cd/src/Rings/mpoly.jl\" target=\"_blank\">/home/taylor/.julia/packages/Oscar/YX0cd/src/Rings/mpoly.jl:438</a>, image(h::<b>Oscar.MPolyHom_alg</b>, I::<b>Oscar.MPolyIdeal</b>) in Oscar at <a href=\"file:///home/taylor/.julia/packages/Oscar/YX0cd/src/Rings/mpoly.jl\" target=\"_blank\">/home/taylor/.julia/packages/Oscar/YX0cd/src/Rings/mpoly.jl:698</a>, ngens(I::<b>Oscar.MPolyIdeal</b>) in Oscar at <a href=\"file:///home/taylor/.julia/packages/Oscar/YX0cd/src/Rings/mpoly.jl\" target=\"_blank\">/home/taylor/.julia/packages/Oscar/YX0cd/src/Rings/mpoly.jl:428</a>, preimage(h::<b>Oscar.MPolyHom_alg</b>, I::<b>Oscar.MPolyIdeal</b>) in Oscar at <a href=\"file:///home/taylor/.julia/packages/Oscar/YX0cd/src/Rings/mpoly.jl\" target=\"_blank\">/home/taylor/.julia/packages/Oscar/YX0cd/src/Rings/mpoly.jl:702</a>, quo(R::<b>MPolyRing</b>, I::<b>Oscar.MPolyIdeal</b>) in Oscar at <a href=\"file:///home/taylor/.julia/packages/Oscar/YX0cd/src/Rings/mpoly.jl\" target=\"_blank\">/home/taylor/.julia/packages/Oscar/YX0cd/src/Rings/mpoly.jl:1162</a>, *(I::<b>Oscar.MPolyIdeal</b>, J::<b>Oscar.MPolyIdeal</b>) in Oscar at <a href=\"file:///home/taylor/.julia/packages/Oscar/YX0cd/src/Rings/mpoly.jl\" target=\"_blank\">/home/taylor/.julia/packages/Oscar/YX0cd/src/Rings/mpoly.jl:398</a>, +(I::<b>Oscar.MPolyIdeal</b>, J::<b>Oscar.MPolyIdeal</b>) in Oscar at <a href=\"file:///home/taylor/.julia/packages/Oscar/YX0cd/src/Rings/mpoly.jl\" target=\"_blank\">/home/taylor/.julia/packages/Oscar/YX0cd/src/Rings/mpoly.jl:404</a>, -(I::<b>Oscar.MPolyIdeal</b>, J::<b>Oscar.MPolyIdeal</b>) in Oscar at <a href=\"file:///home/taylor/.julia/packages/Oscar/YX0cd/src/Rings/mpoly.jl\" target=\"_blank\">/home/taylor/.julia/packages/Oscar/YX0cd/src/Rings/mpoly.jl:409</a>, ==(I::<b>Oscar.MPolyIdeal</b>, J::<b>Oscar.MPolyIdeal</b>) in Oscar at <a href=\"file:///home/taylor/.julia/packages/Oscar/YX0cd/src/Rings/mpoly.jl\" target=\"_blank\">/home/taylor/.julia/packages/Oscar/YX0cd/src/Rings/mpoly.jl:411</a>, ^(I::<b>Oscar.MPolyIdeal</b>, j::<b>Int64</b>) in Oscar at <a href=\"file:///home/taylor/.julia/packages/Oscar/YX0cd/src/Rings/mpoly.jl\" target=\"_blank\">/home/taylor/.julia/packages/Oscar/YX0cd/src/Rings/mpoly.jl:417</a>, eliminate(I::<b>Oscar.MPolyIdeal</b>, l::<b>Array{var\"#s73\",1} where var\"#s73\"<:MPolyElem</b>) in Oscar at <a href=\"file:///home/taylor/.julia/packages/Oscar/YX0cd/src/Rings/mpoly.jl\" target=\"_blank\">/home/taylor/.julia/packages/Oscar/YX0cd/src/Rings/mpoly.jl:714</a>, eliminate(I::<b>Oscar.MPolyIdeal</b>, l::<b>AbstractArray{Int64,1}</b>) in Oscar at <a href=\"file:///home/taylor/.julia/packages/Oscar/YX0cd/src/Rings/mpoly.jl\" target=\"_blank\">/home/taylor/.julia/packages/Oscar/YX0cd/src/Rings/mpoly.jl:728</a>, free_resolution(I::<b>Oscar.MPolyIdeal</b>) in Oscar at <a href=\"file:///home/taylor/.julia/packages/Oscar/YX0cd/src/Modules/FreeModules-graded.jl\" target=\"_blank\">/home/taylor/.julia/packages/Oscar/YX0cd/src/Modules/FreeModules-graded.jl:1085</a>, groebner_basis(I::<b>Oscar.MPolyIdeal</b>) in Oscar at <a href=\"file:///home/taylor/.julia/packages/Oscar/YX0cd/src/Rings/mpoly.jl\" target=\"_blank\">/home/taylor/.julia/packages/Oscar/YX0cd/src/Rings/mpoly.jl:534</a>, groebner_basis(I::<b>Oscar.MPolyIdeal</b>, ord::<b>Symbol</b>) in Oscar at <a href=\"file:///home/taylor/.julia/packages/Oscar/YX0cd/src/Rings/mpoly.jl\" target=\"_blank\">/home/taylor/.julia/packages/Oscar/YX0cd/src/Rings/mpoly.jl:539</a>, in(f::<b>MPolyElem</b>, I::<b>Oscar.MPolyIdeal</b>) in Oscar at <a href=\"file:///home/taylor/.julia/packages/Oscar/YX0cd/src/Rings/mpoly.jl\" target=\"_blank\">/home/taylor/.julia/packages/Oscar/YX0cd/src/Rings/mpoly.jl:524</a>, intersect(I::<b>Oscar.MPolyIdeal</b>, J::<b>Oscar.MPolyIdeal</b>) in Oscar at <a href=\"file:///home/taylor/.julia/packages/Oscar/YX0cd/src/Rings/mpoly.jl\" target=\"_blank\">/home/taylor/.julia/packages/Oscar/YX0cd/src/Rings/mpoly.jl:422</a>, show(io::<b>IO</b>, ::<b>Union{MIME{Symbol(\"text/latex\")}, MIME{Symbol(\"text/html\")}}</b>, I::<b>Oscar.MPolyIdeal</b>) in Oscar at <a href=\"file:///home/taylor/.julia/packages/Oscar/YX0cd/src/Rings/mpoly.jl\" target=\"_blank\">/home/taylor/.julia/packages/Oscar/YX0cd/src/Rings/mpoly.jl:333</a>, show(io::<b>IO</b>, I::<b>Oscar.MPolyIdeal</b>) in Oscar at <a href=\"file:///home/taylor/.julia/packages/Oscar/YX0cd/src/Rings/mpoly.jl\" target=\"_blank\">/home/taylor/.julia/packages/Oscar/YX0cd/src/Rings/mpoly.jl:318</a>, (::<b>Colon</b>)(I::<b>Oscar.MPolyIdeal</b>, J::<b>Oscar.MPolyIdeal</b>) in Oscar at <a href=\"file:///home/taylor/.julia/packages/Oscar/YX0cd/src/Rings/mpoly.jl\" target=\"_blank\">/home/taylor/.julia/packages/Oscar/YX0cd/src/Rings/mpoly.jl:452</a>, issubset(I::<b>Oscar.MPolyIdeal</b>, J::<b>Oscar.MPolyIdeal</b>) in Oscar at <a href=\"file:///home/taylor/.julia/packages/Oscar/YX0cd/src/Rings/mpoly.jl\" target=\"_blank\">/home/taylor/.julia/packages/Oscar/YX0cd/src/Rings/mpoly.jl:432</a>]"
      ],
      "text/plain": [
       "[1] PrimaryDecomposition(I::Oscar.MPolyIdeal) in Main at In[36]:1\n",
       "[2] base_ring(I::Oscar.MPolyIdeal) in Oscar at /home/taylor/.julia/packages/Oscar/YX0cd/src/Rings/mpoly.jl:530\n",
       "[3] dim(I::Oscar.MPolyIdeal) in Oscar at /home/taylor/.julia/packages/Oscar/YX0cd/src/Rings/mpoly.jl:515\n",
       "[4] gen(I::Oscar.MPolyIdeal, i::Int64) in Oscar at /home/taylor/.julia/packages/Oscar/YX0cd/src/Rings/mpoly.jl:442\n",
       "[5] gens(I::Oscar.MPolyIdeal) in Oscar at /home/taylor/.julia/packages/Oscar/YX0cd/src/Rings/mpoly.jl:438\n",
       "[6] image(h::Oscar.MPolyHom_alg, I::Oscar.MPolyIdeal) in Oscar at /home/taylor/.julia/packages/Oscar/YX0cd/src/Rings/mpoly.jl:698\n",
       "[7] ngens(I::Oscar.MPolyIdeal) in Oscar at /home/taylor/.julia/packages/Oscar/YX0cd/src/Rings/mpoly.jl:428\n",
       "[8] preimage(h::Oscar.MPolyHom_alg, I::Oscar.MPolyIdeal) in Oscar at /home/taylor/.julia/packages/Oscar/YX0cd/src/Rings/mpoly.jl:702\n",
       "[9] quo(R::MPolyRing, I::Oscar.MPolyIdeal) in Oscar at /home/taylor/.julia/packages/Oscar/YX0cd/src/Rings/mpoly.jl:1162\n",
       "[10] *(I::Oscar.MPolyIdeal, J::Oscar.MPolyIdeal) in Oscar at /home/taylor/.julia/packages/Oscar/YX0cd/src/Rings/mpoly.jl:398\n",
       "[11] +(I::Oscar.MPolyIdeal, J::Oscar.MPolyIdeal) in Oscar at /home/taylor/.julia/packages/Oscar/YX0cd/src/Rings/mpoly.jl:404\n",
       "[12] -(I::Oscar.MPolyIdeal, J::Oscar.MPolyIdeal) in Oscar at /home/taylor/.julia/packages/Oscar/YX0cd/src/Rings/mpoly.jl:409\n",
       "[13] ==(I::Oscar.MPolyIdeal, J::Oscar.MPolyIdeal) in Oscar at /home/taylor/.julia/packages/Oscar/YX0cd/src/Rings/mpoly.jl:411\n",
       "[14] ^(I::Oscar.MPolyIdeal, j::Int64) in Oscar at /home/taylor/.julia/packages/Oscar/YX0cd/src/Rings/mpoly.jl:417\n",
       "[15] eliminate(I::Oscar.MPolyIdeal, l::Array{var\"#s73\",1} where var\"#s73\"<:MPolyElem) in Oscar at /home/taylor/.julia/packages/Oscar/YX0cd/src/Rings/mpoly.jl:714\n",
       "[16] eliminate(I::Oscar.MPolyIdeal, l::AbstractArray{Int64,1}) in Oscar at /home/taylor/.julia/packages/Oscar/YX0cd/src/Rings/mpoly.jl:728\n",
       "[17] free_resolution(I::Oscar.MPolyIdeal) in Oscar at /home/taylor/.julia/packages/Oscar/YX0cd/src/Modules/FreeModules-graded.jl:1085\n",
       "[18] groebner_basis(I::Oscar.MPolyIdeal) in Oscar at /home/taylor/.julia/packages/Oscar/YX0cd/src/Rings/mpoly.jl:534\n",
       "[19] groebner_basis(I::Oscar.MPolyIdeal, ord::Symbol) in Oscar at /home/taylor/.julia/packages/Oscar/YX0cd/src/Rings/mpoly.jl:539\n",
       "[20] in(f::MPolyElem, I::Oscar.MPolyIdeal) in Oscar at /home/taylor/.julia/packages/Oscar/YX0cd/src/Rings/mpoly.jl:524\n",
       "[21] intersect(I::Oscar.MPolyIdeal, J::Oscar.MPolyIdeal) in Oscar at /home/taylor/.julia/packages/Oscar/YX0cd/src/Rings/mpoly.jl:422\n",
       "[22] show(io::IO, ::Union{MIME{Symbol(\"text/latex\")}, MIME{Symbol(\"text/html\")}}, I::Oscar.MPolyIdeal) in Oscar at /home/taylor/.julia/packages/Oscar/YX0cd/src/Rings/mpoly.jl:333\n",
       "[23] show(io::IO, I::Oscar.MPolyIdeal) in Oscar at /home/taylor/.julia/packages/Oscar/YX0cd/src/Rings/mpoly.jl:318\n",
       "[24] (::Colon)(I::Oscar.MPolyIdeal, J::Oscar.MPolyIdeal) in Oscar at /home/taylor/.julia/packages/Oscar/YX0cd/src/Rings/mpoly.jl:452\n",
       "[25] issubset(I::Oscar.MPolyIdeal, J::Oscar.MPolyIdeal) in Oscar at /home/taylor/.julia/packages/Oscar/YX0cd/src/Rings/mpoly.jl:432"
      ]
     },
     "execution_count": 40,
     "metadata": {},
     "output_type": "execute_result"
    }
   ],
   "source": [
    "methodswith(Oscar.MPolyIdeal) # this is how to find out!"
   ]
  },
  {
   "cell_type": "code",
   "execution_count": 41,
   "metadata": {},
   "outputs": [
    {
     "data": {
      "text/html": [
       "$\\text{ideal generated by: }xz^{3}, x^{2}z^{2}, x^{3}z, x^{4}$"
      ],
      "text/latex": [
       "$\\text{ideal generated by: }xz^{3}, x^{2}z^{2}, x^{3}z, x^{4}$"
      ],
      "text/plain": [
       "ideal generated by: x*z^3, x^2*z^2, x^3*z, x^4"
      ]
     },
     "execution_count": 41,
     "metadata": {},
     "output_type": "execute_result"
    }
   ],
   "source": [
    "E = eliminate(I,[y]) # you can eliminate"
   ]
  },
  {
   "cell_type": "code",
   "execution_count": 42,
   "metadata": {},
   "outputs": [
    {
     "data": {
      "text/html": [
       "true"
      ],
      "text/latex": [
       "true"
      ],
      "text/plain": [
       "true"
      ]
     },
     "execution_count": 42,
     "metadata": {},
     "output_type": "execute_result"
    }
   ],
   "source": [
    "intersect(E,I) == E # you can intersect and perform ideal equality tests"
   ]
  },
  {
   "cell_type": "code",
   "execution_count": 43,
   "metadata": {},
   "outputs": [
    {
     "data": {
      "text/html": [
       "$\\text{ideal generated by: }x$"
      ],
      "text/latex": [
       "$\\text{ideal generated by: }x$"
      ],
      "text/plain": [
       "ideal generated by: x"
      ]
     },
     "execution_count": 43,
     "metadata": {},
     "output_type": "execute_result"
    }
   ],
   "source": [
    "I:ideal([z]) # colon indicates saturation right now!"
   ]
  }
 ],
 "metadata": {
  "kernelspec": {
   "display_name": "Julia 1.5.2",
   "language": "julia",
   "name": "julia-1.5"
  },
  "language_info": {
   "file_extension": ".jl",
   "mimetype": "application/julia",
   "name": "julia",
   "version": "1.5.2"
  }
 },
 "nbformat": 4,
 "nbformat_minor": 2
}
